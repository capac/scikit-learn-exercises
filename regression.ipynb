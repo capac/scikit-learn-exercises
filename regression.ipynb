{
 "cells": [
  {
   "cell_type": "markdown",
   "metadata": {},
   "source": [
    "# Boston house prices dataset"
   ]
  },
  {
   "cell_type": "markdown",
   "metadata": {},
   "source": [
    "## Sections\n",
    "\n",
    " - [Description](#Description)\n",
    "   - [Context](#Context)\n",
    "   - [Content](#Content)\n",
    "   - [Attribute Information](#Attribute-Information)\n",
    "   - [Acknowledgements](#Acknowledgements)\n",
    " - [Loading dataframe](#Loading-dataframe)\n",
    " - [Model pipeline](#Model-pipeline)\n",
    "   - [Linear models](#Linear-models)\n",
    "     - [Accuracy for linear models](#Accuracy-for-linear-models)\n",
    "     - [Root mean squared error](#Root-mean-squared-error-for-linear-models)\n",
    "   - [Polynomial model](#Polynomial-model)\n",
    "     - [Accuracy for polynomial models](#Accuracy-for-polynomial-models)\n",
    "     - [Root mean squared error for polynomial models](#Root-mean-squared-error-for-polynomial-models)"
   ]
  },
  {
   "cell_type": "markdown",
   "metadata": {},
   "source": [
    "## Description\n",
    "\n",
    "### Context\n",
    "\n",
    "This is a Data Set from UCI Machine Learning Repository which concerns housing values in suburbs of Boston.\n",
    "\n",
    "### Content\n",
    "\n",
    "Number of Instances: 506\n",
    "\n",
    "### Attribute Information:\n",
    "\n",
    " * `CRIM`: per capita crime rate by town\n",
    " * `ZN`: proportion of residential land zoned for lots over 25,000 sq.ft.\n",
    " * `INDUS`: proportion of non-retail business acres per town\n",
    " * `CHAS`: Charles River dummy variable (= 1 if tract bounds river; 0 otherwise)\n",
    " * `NOX`: nitric oxides concentration (parts per 10 million)\n",
    " * `RM`: average number of rooms per dwelling\n",
    " * `AGE`: proportion of owner\\-occupied units built prior to 1940\n",
    " * `DIS`: weighted distances to five Boston employment centres\n",
    " * `RAD`: index of accessibility to radial highways\n",
    " * `TAX`: full\\-value property\\-tax rate per \\$10\\,000\n",
    " * `PTRATIO`: pupil\\-teacher ratio by town\n",
    " * `B`: `1000*(Bk - 0.63)^2` where `Bk` is the proportion of blacks by town\n",
    " * `LSTAT`: \\% lower status of the population\n",
    " * `MEDV`: median value of owner\\-occupied homes in \\$1000\\'s\n",
    "\n",
    "Missing Attribute Values: None\n",
    "\n",
    "### Acknowledgements\n",
    "\n",
    "Source: https://archive.ics.uci.edu/ml/datasets/Housing \n",
    "\n",
    "Origin: This dataset was taken from the StatLib library which is maintained at Carnegie Mellon University. \n",
    "\n",
    "Creator: Harrison, D. and Rubinfeld, D.L. 'Hedonic prices and the demand for clean air', J. Environ. Economics & Management, vol.5, 81-102, 1978."
   ]
  },
  {
   "cell_type": "code",
   "execution_count": 1,
   "metadata": {},
   "outputs": [],
   "source": [
    "import numpy as np\n",
    "import pandas as pd\n",
    "import seaborn as sns\n",
    "import matplotlib.pyplot as plt\n",
    "%matplotlib inline"
   ]
  },
  {
   "cell_type": "code",
   "execution_count": 2,
   "metadata": {},
   "outputs": [],
   "source": [
    "pd.set_option('display.max_columns', None)\n",
    "pd.set_option('display.max_colwidth', -1)"
   ]
  },
  {
   "cell_type": "code",
   "execution_count": 3,
   "metadata": {},
   "outputs": [],
   "source": [
    "from sklearn.datasets import load_boston\n",
    "boston = load_boston()"
   ]
  },
  {
   "cell_type": "markdown",
   "metadata": {},
   "source": [
    "## Loading dataframe"
   ]
  },
  {
   "cell_type": "code",
   "execution_count": 4,
   "metadata": {},
   "outputs": [],
   "source": [
    "import json, re\n",
    "raw_attrib = json.dumps(boston.DESCR).split('\\\\n\\\\n')[5].split('\\\\n')\n",
    "attrib = []\n",
    "for num in range(1, len(raw_attrib)):\n",
    "    attrib.append(re.split('\\\\s+', raw_attrib[num])[2])"
   ]
  },
  {
   "cell_type": "code",
   "execution_count": 5,
   "metadata": {},
   "outputs": [],
   "source": [
    "X = pd.DataFrame(boston.data, columns=attrib[:-1])\n",
    "y = pd.Series(boston.target)"
   ]
  },
  {
   "cell_type": "code",
   "execution_count": 6,
   "metadata": {},
   "outputs": [
    {
     "data": {
      "text/html": [
       "<div>\n",
       "<style scoped>\n",
       "    .dataframe tbody tr th:only-of-type {\n",
       "        vertical-align: middle;\n",
       "    }\n",
       "\n",
       "    .dataframe tbody tr th {\n",
       "        vertical-align: top;\n",
       "    }\n",
       "\n",
       "    .dataframe thead th {\n",
       "        text-align: right;\n",
       "    }\n",
       "</style>\n",
       "<table border=\"1\" class=\"dataframe\">\n",
       "  <thead>\n",
       "    <tr style=\"text-align: right;\">\n",
       "      <th></th>\n",
       "      <th>CRIM</th>\n",
       "      <th>ZN</th>\n",
       "      <th>INDUS</th>\n",
       "      <th>CHAS</th>\n",
       "      <th>NOX</th>\n",
       "      <th>RM</th>\n",
       "      <th>AGE</th>\n",
       "      <th>DIS</th>\n",
       "      <th>RAD</th>\n",
       "      <th>TAX</th>\n",
       "      <th>PTRATIO</th>\n",
       "      <th>B</th>\n",
       "      <th>LSTAT</th>\n",
       "    </tr>\n",
       "  </thead>\n",
       "  <tbody>\n",
       "    <tr>\n",
       "      <td>0</td>\n",
       "      <td>0.00632</td>\n",
       "      <td>18.0</td>\n",
       "      <td>2.31</td>\n",
       "      <td>0.0</td>\n",
       "      <td>0.538</td>\n",
       "      <td>6.575</td>\n",
       "      <td>65.2</td>\n",
       "      <td>4.0900</td>\n",
       "      <td>1.0</td>\n",
       "      <td>296.0</td>\n",
       "      <td>15.3</td>\n",
       "      <td>396.90</td>\n",
       "      <td>4.98</td>\n",
       "    </tr>\n",
       "    <tr>\n",
       "      <td>1</td>\n",
       "      <td>0.02731</td>\n",
       "      <td>0.0</td>\n",
       "      <td>7.07</td>\n",
       "      <td>0.0</td>\n",
       "      <td>0.469</td>\n",
       "      <td>6.421</td>\n",
       "      <td>78.9</td>\n",
       "      <td>4.9671</td>\n",
       "      <td>2.0</td>\n",
       "      <td>242.0</td>\n",
       "      <td>17.8</td>\n",
       "      <td>396.90</td>\n",
       "      <td>9.14</td>\n",
       "    </tr>\n",
       "    <tr>\n",
       "      <td>2</td>\n",
       "      <td>0.02729</td>\n",
       "      <td>0.0</td>\n",
       "      <td>7.07</td>\n",
       "      <td>0.0</td>\n",
       "      <td>0.469</td>\n",
       "      <td>7.185</td>\n",
       "      <td>61.1</td>\n",
       "      <td>4.9671</td>\n",
       "      <td>2.0</td>\n",
       "      <td>242.0</td>\n",
       "      <td>17.8</td>\n",
       "      <td>392.83</td>\n",
       "      <td>4.03</td>\n",
       "    </tr>\n",
       "    <tr>\n",
       "      <td>3</td>\n",
       "      <td>0.03237</td>\n",
       "      <td>0.0</td>\n",
       "      <td>2.18</td>\n",
       "      <td>0.0</td>\n",
       "      <td>0.458</td>\n",
       "      <td>6.998</td>\n",
       "      <td>45.8</td>\n",
       "      <td>6.0622</td>\n",
       "      <td>3.0</td>\n",
       "      <td>222.0</td>\n",
       "      <td>18.7</td>\n",
       "      <td>394.63</td>\n",
       "      <td>2.94</td>\n",
       "    </tr>\n",
       "    <tr>\n",
       "      <td>4</td>\n",
       "      <td>0.06905</td>\n",
       "      <td>0.0</td>\n",
       "      <td>2.18</td>\n",
       "      <td>0.0</td>\n",
       "      <td>0.458</td>\n",
       "      <td>7.147</td>\n",
       "      <td>54.2</td>\n",
       "      <td>6.0622</td>\n",
       "      <td>3.0</td>\n",
       "      <td>222.0</td>\n",
       "      <td>18.7</td>\n",
       "      <td>396.90</td>\n",
       "      <td>5.33</td>\n",
       "    </tr>\n",
       "  </tbody>\n",
       "</table>\n",
       "</div>"
      ],
      "text/plain": [
       "      CRIM    ZN  INDUS  CHAS    NOX     RM   AGE     DIS  RAD    TAX  \\\n",
       "0  0.00632  18.0  2.31   0.0   0.538  6.575  65.2  4.0900  1.0  296.0   \n",
       "1  0.02731  0.0   7.07   0.0   0.469  6.421  78.9  4.9671  2.0  242.0   \n",
       "2  0.02729  0.0   7.07   0.0   0.469  7.185  61.1  4.9671  2.0  242.0   \n",
       "3  0.03237  0.0   2.18   0.0   0.458  6.998  45.8  6.0622  3.0  222.0   \n",
       "4  0.06905  0.0   2.18   0.0   0.458  7.147  54.2  6.0622  3.0  222.0   \n",
       "\n",
       "   PTRATIO       B  LSTAT  \n",
       "0  15.3     396.90  4.98   \n",
       "1  17.8     396.90  9.14   \n",
       "2  17.8     392.83  4.03   \n",
       "3  18.7     394.63  2.94   \n",
       "4  18.7     396.90  5.33   "
      ]
     },
     "execution_count": 6,
     "metadata": {},
     "output_type": "execute_result"
    }
   ],
   "source": [
    "X.head()"
   ]
  },
  {
   "cell_type": "code",
   "execution_count": 7,
   "metadata": {},
   "outputs": [
    {
     "name": "stdout",
     "output_type": "stream",
     "text": [
      "<class 'pandas.core.frame.DataFrame'>\n",
      "RangeIndex: 506 entries, 0 to 505\n",
      "Data columns (total 13 columns):\n",
      "CRIM       506 non-null float64\n",
      "ZN         506 non-null float64\n",
      "INDUS      506 non-null float64\n",
      "CHAS       506 non-null float64\n",
      "NOX        506 non-null float64\n",
      "RM         506 non-null float64\n",
      "AGE        506 non-null float64\n",
      "DIS        506 non-null float64\n",
      "RAD        506 non-null float64\n",
      "TAX        506 non-null float64\n",
      "PTRATIO    506 non-null float64\n",
      "B          506 non-null float64\n",
      "LSTAT      506 non-null float64\n",
      "dtypes: float64(13)\n",
      "memory usage: 51.5 KB\n"
     ]
    }
   ],
   "source": [
    "X.info()"
   ]
  },
  {
   "cell_type": "code",
   "execution_count": 8,
   "metadata": {},
   "outputs": [
    {
     "data": {
      "text/html": [
       "<div>\n",
       "<style scoped>\n",
       "    .dataframe tbody tr th:only-of-type {\n",
       "        vertical-align: middle;\n",
       "    }\n",
       "\n",
       "    .dataframe tbody tr th {\n",
       "        vertical-align: top;\n",
       "    }\n",
       "\n",
       "    .dataframe thead th {\n",
       "        text-align: right;\n",
       "    }\n",
       "</style>\n",
       "<table border=\"1\" class=\"dataframe\">\n",
       "  <thead>\n",
       "    <tr style=\"text-align: right;\">\n",
       "      <th></th>\n",
       "      <th>CRIM</th>\n",
       "      <th>ZN</th>\n",
       "      <th>INDUS</th>\n",
       "      <th>CHAS</th>\n",
       "      <th>NOX</th>\n",
       "      <th>RM</th>\n",
       "      <th>AGE</th>\n",
       "      <th>DIS</th>\n",
       "      <th>RAD</th>\n",
       "      <th>TAX</th>\n",
       "      <th>PTRATIO</th>\n",
       "      <th>B</th>\n",
       "      <th>LSTAT</th>\n",
       "    </tr>\n",
       "  </thead>\n",
       "  <tbody>\n",
       "    <tr>\n",
       "      <td>count</td>\n",
       "      <td>506.00</td>\n",
       "      <td>506.00</td>\n",
       "      <td>506.00</td>\n",
       "      <td>506.00</td>\n",
       "      <td>506.00</td>\n",
       "      <td>506.00</td>\n",
       "      <td>506.00</td>\n",
       "      <td>506.00</td>\n",
       "      <td>506.00</td>\n",
       "      <td>506.00</td>\n",
       "      <td>506.00</td>\n",
       "      <td>506.00</td>\n",
       "      <td>506.00</td>\n",
       "    </tr>\n",
       "    <tr>\n",
       "      <td>mean</td>\n",
       "      <td>3.61</td>\n",
       "      <td>11.36</td>\n",
       "      <td>11.14</td>\n",
       "      <td>0.07</td>\n",
       "      <td>0.55</td>\n",
       "      <td>6.28</td>\n",
       "      <td>68.57</td>\n",
       "      <td>3.80</td>\n",
       "      <td>9.55</td>\n",
       "      <td>408.24</td>\n",
       "      <td>18.46</td>\n",
       "      <td>356.67</td>\n",
       "      <td>12.65</td>\n",
       "    </tr>\n",
       "    <tr>\n",
       "      <td>std</td>\n",
       "      <td>8.60</td>\n",
       "      <td>23.32</td>\n",
       "      <td>6.86</td>\n",
       "      <td>0.25</td>\n",
       "      <td>0.12</td>\n",
       "      <td>0.70</td>\n",
       "      <td>28.15</td>\n",
       "      <td>2.11</td>\n",
       "      <td>8.71</td>\n",
       "      <td>168.54</td>\n",
       "      <td>2.16</td>\n",
       "      <td>91.29</td>\n",
       "      <td>7.14</td>\n",
       "    </tr>\n",
       "    <tr>\n",
       "      <td>min</td>\n",
       "      <td>0.01</td>\n",
       "      <td>0.00</td>\n",
       "      <td>0.46</td>\n",
       "      <td>0.00</td>\n",
       "      <td>0.39</td>\n",
       "      <td>3.56</td>\n",
       "      <td>2.90</td>\n",
       "      <td>1.13</td>\n",
       "      <td>1.00</td>\n",
       "      <td>187.00</td>\n",
       "      <td>12.60</td>\n",
       "      <td>0.32</td>\n",
       "      <td>1.73</td>\n",
       "    </tr>\n",
       "    <tr>\n",
       "      <td>25%</td>\n",
       "      <td>0.08</td>\n",
       "      <td>0.00</td>\n",
       "      <td>5.19</td>\n",
       "      <td>0.00</td>\n",
       "      <td>0.45</td>\n",
       "      <td>5.89</td>\n",
       "      <td>45.02</td>\n",
       "      <td>2.10</td>\n",
       "      <td>4.00</td>\n",
       "      <td>279.00</td>\n",
       "      <td>17.40</td>\n",
       "      <td>375.38</td>\n",
       "      <td>6.95</td>\n",
       "    </tr>\n",
       "    <tr>\n",
       "      <td>50%</td>\n",
       "      <td>0.26</td>\n",
       "      <td>0.00</td>\n",
       "      <td>9.69</td>\n",
       "      <td>0.00</td>\n",
       "      <td>0.54</td>\n",
       "      <td>6.21</td>\n",
       "      <td>77.50</td>\n",
       "      <td>3.21</td>\n",
       "      <td>5.00</td>\n",
       "      <td>330.00</td>\n",
       "      <td>19.05</td>\n",
       "      <td>391.44</td>\n",
       "      <td>11.36</td>\n",
       "    </tr>\n",
       "    <tr>\n",
       "      <td>75%</td>\n",
       "      <td>3.68</td>\n",
       "      <td>12.50</td>\n",
       "      <td>18.10</td>\n",
       "      <td>0.00</td>\n",
       "      <td>0.62</td>\n",
       "      <td>6.62</td>\n",
       "      <td>94.07</td>\n",
       "      <td>5.19</td>\n",
       "      <td>24.00</td>\n",
       "      <td>666.00</td>\n",
       "      <td>20.20</td>\n",
       "      <td>396.23</td>\n",
       "      <td>16.96</td>\n",
       "    </tr>\n",
       "    <tr>\n",
       "      <td>max</td>\n",
       "      <td>88.98</td>\n",
       "      <td>100.00</td>\n",
       "      <td>27.74</td>\n",
       "      <td>1.00</td>\n",
       "      <td>0.87</td>\n",
       "      <td>8.78</td>\n",
       "      <td>100.00</td>\n",
       "      <td>12.13</td>\n",
       "      <td>24.00</td>\n",
       "      <td>711.00</td>\n",
       "      <td>22.00</td>\n",
       "      <td>396.90</td>\n",
       "      <td>37.97</td>\n",
       "    </tr>\n",
       "  </tbody>\n",
       "</table>\n",
       "</div>"
      ],
      "text/plain": [
       "         CRIM      ZN   INDUS    CHAS     NOX      RM     AGE     DIS     RAD  \\\n",
       "count  506.00  506.00  506.00  506.00  506.00  506.00  506.00  506.00  506.00   \n",
       "mean   3.61    11.36   11.14   0.07    0.55    6.28    68.57   3.80    9.55     \n",
       "std    8.60    23.32   6.86    0.25    0.12    0.70    28.15   2.11    8.71     \n",
       "min    0.01    0.00    0.46    0.00    0.39    3.56    2.90    1.13    1.00     \n",
       "25%    0.08    0.00    5.19    0.00    0.45    5.89    45.02   2.10    4.00     \n",
       "50%    0.26    0.00    9.69    0.00    0.54    6.21    77.50   3.21    5.00     \n",
       "75%    3.68    12.50   18.10   0.00    0.62    6.62    94.07   5.19    24.00    \n",
       "max    88.98   100.00  27.74   1.00    0.87    8.78    100.00  12.13   24.00    \n",
       "\n",
       "          TAX PTRATIO       B   LSTAT  \n",
       "count  506.00  506.00  506.00  506.00  \n",
       "mean   408.24  18.46   356.67  12.65   \n",
       "std    168.54  2.16    91.29   7.14    \n",
       "min    187.00  12.60   0.32    1.73    \n",
       "25%    279.00  17.40   375.38  6.95    \n",
       "50%    330.00  19.05   391.44  11.36   \n",
       "75%    666.00  20.20   396.23  16.96   \n",
       "max    711.00  22.00   396.90  37.97   "
      ]
     },
     "execution_count": 8,
     "metadata": {},
     "output_type": "execute_result"
    }
   ],
   "source": [
    "X.describe().applymap('{:.2f}'.format)"
   ]
  },
  {
   "cell_type": "code",
   "execution_count": 9,
   "metadata": {},
   "outputs": [],
   "source": [
    "sns.set(style=\"whitegrid\", color_codes=True)\n",
    "\n",
    "def sns_pairgrid_plot(start_col, end_col):\n",
    "    g = sns.PairGrid(X, x_vars=attrib[start_col:end_col], y_vars=attrib[:-1])\n",
    "    g = g.map(plt.scatter, alpha=0.2, s=7, color='blue')\n",
    "    xlabels, ylabels = [], []\n",
    "    label_font_size = 12\n",
    "\n",
    "    for ax in g.axes[-1,:]:\n",
    "        xlabel = ax.xaxis.get_label_text()\n",
    "        xlabels.append(xlabel)\n",
    "    for ax in g.axes[:,0]:\n",
    "        ylabel = ax.yaxis.get_label_text()\n",
    "        ylabels.append(ylabel)\n",
    "\n",
    "    for i in range(len(xlabels)):\n",
    "        for j in range(len(ylabels)):\n",
    "            g.axes[j, i].xaxis.set_label_text(xlabels[i])\n",
    "            g.axes[j, i].xaxis.label.set_size(label_font_size)\n",
    "            g.axes[j, i].tick_params(axis='x', which='major', labelsize=label_font_size)\n",
    "            g.axes[j, i].yaxis.set_label_text(ylabels[j])\n",
    "            g.axes[j, i].yaxis.label.set_size(label_font_size)\n",
    "            g.axes[j, i].tick_params(axis='y', which='major', labelsize=label_font_size)\n",
    "\n",
    "    plt.tight_layout();"
   ]
  },
  {
   "cell_type": "code",
   "execution_count": 10,
   "metadata": {
    "scrolled": false
   },
   "outputs": [],
   "source": [
    "# sns_pairgrid_plot(0, 6)"
   ]
  },
  {
   "cell_type": "code",
   "execution_count": 11,
   "metadata": {
    "scrolled": false
   },
   "outputs": [],
   "source": [
    "# sns_pairgrid_plot(6, -1)"
   ]
  },
  {
   "cell_type": "markdown",
   "metadata": {},
   "source": [
    "## Model pipeline"
   ]
  },
  {
   "cell_type": "code",
   "execution_count": 12,
   "metadata": {},
   "outputs": [],
   "source": [
    "from sklearn.pipeline import Pipeline\n",
    "from sklearn.compose import ColumnTransformer\n",
    "from sklearn.impute import SimpleImputer\n",
    "from sklearn.preprocessing import StandardScaler, OneHotEncoder"
   ]
  },
  {
   "cell_type": "code",
   "execution_count": 13,
   "metadata": {},
   "outputs": [],
   "source": [
    "cat_attrib = [attrib[3]] # just the CHAS column\n",
    "num_attrib = list(attrib[0:3] + attrib[4:-1])"
   ]
  },
  {
   "cell_type": "code",
   "execution_count": 14,
   "metadata": {},
   "outputs": [],
   "source": [
    "num_pipeline = Pipeline([('imputer', SimpleImputer(strategy='median')), ('std_scaler', StandardScaler())])\n",
    "full_pipeline = ColumnTransformer([('num', num_pipeline, num_attrib), \\\n",
    "                                   ('cat', OneHotEncoder(categories='auto'), cat_attrib)])"
   ]
  },
  {
   "cell_type": "code",
   "execution_count": 15,
   "metadata": {
    "scrolled": true
   },
   "outputs": [],
   "source": [
    "X_prepared = full_pipeline.fit_transform(X)"
   ]
  },
  {
   "cell_type": "code",
   "execution_count": 16,
   "metadata": {},
   "outputs": [
    {
     "data": {
      "text/plain": [
       "((354, 14), (152, 14), (354,), (152,))"
      ]
     },
     "execution_count": 16,
     "metadata": {},
     "output_type": "execute_result"
    }
   ],
   "source": [
    "from sklearn.model_selection import train_test_split\n",
    "X_train, X_test, y_train, y_test = train_test_split(X_prepared, y, test_size=0.3, random_state=42)\n",
    "X_train.shape, X_test.shape, y_train.shape, y_test.shape"
   ]
  },
  {
   "cell_type": "code",
   "execution_count": 17,
   "metadata": {},
   "outputs": [],
   "source": [
    "from sklearn.linear_model import LinearRegression, SGDRegressor, Ridge, Lasso, ElasticNet\n",
    "from sklearn.preprocessing import PolynomialFeatures"
   ]
  },
  {
   "cell_type": "markdown",
   "metadata": {},
   "source": [
    "### Linear models"
   ]
  },
  {
   "cell_type": "code",
   "execution_count": 18,
   "metadata": {},
   "outputs": [],
   "source": [
    "lin_model_dict = {'Linear regression': LinearRegression(), \\\n",
    "                  'Stochastic gradient descent': SGDRegressor(max_iter=100000, tol=1e-04, penalty=None, eta0=0.005), \\\n",
    "                  'Lasso regression': Lasso(alpha=0.01), \\\n",
    "                  'Ridge regression': Ridge(alpha=0.01, solver='cholesky'), \\\n",
    "                  'Elastic Net regression': ElasticNet(alpha=0.1, l1_ratio=0.5)}"
   ]
  },
  {
   "cell_type": "markdown",
   "metadata": {},
   "source": [
    "#### Accuracy for linear models"
   ]
  },
  {
   "cell_type": "code",
   "execution_count": 19,
   "metadata": {},
   "outputs": [
    {
     "name": "stdout",
     "output_type": "stream",
     "text": [
      "Accuracy of the linear regression on test set: 0.71123\n",
      "Accuracy of the stochastic gradient descent on test set: 0.70865\n",
      "Accuracy of the lasso regression on test set: 0.71078\n",
      "Accuracy of the ridge regression on test set: 0.71122\n",
      "Accuracy of the elastic net regression on test set: 0.70075\n",
      "Time elapsed: 0.016 seconds\n"
     ]
    }
   ],
   "source": [
    "# import joblib\n",
    "from time import time\n",
    "t0 = time()\n",
    "y_pred_results = []\n",
    "for name, model in lin_model_dict.items():\n",
    "    model.fit(X_train, y_train)\n",
    "    y_pred = model.predict(X_test)\n",
    "    y_pred_results.append(y_pred)\n",
    "#     joblib.dump(model, '_'.join(name.lower().split(' '))+'.pkl')\n",
    "    print(f'Accuracy of the {name.lower()} on test set: {model.score(X_test, y_test):.5f}')\n",
    "print(f'Time elapsed: {(time() - t0):.3f} seconds')"
   ]
  },
  {
   "cell_type": "markdown",
   "metadata": {},
   "source": [
    "#### Root mean squared error for linear models"
   ]
  },
  {
   "cell_type": "code",
   "execution_count": 20,
   "metadata": {},
   "outputs": [
    {
     "name": "stdout",
     "output_type": "stream",
     "text": [
      "RMSE and R2 for the linear regression model: 4.639, 0.7112\n",
      "RMSE and R2 for the stochastic gradient descent model: 4.659, 0.7087\n",
      "RMSE and R2 for the lasso regression model: 4.642, 0.7108\n",
      "RMSE and R2 for the ridge regression model: 4.639, 0.7112\n",
      "RMSE and R2 for the elastic net regression model: 4.722, 0.7008\n"
     ]
    }
   ],
   "source": [
    "from sklearn.metrics import mean_squared_error, r2_score\n",
    "for (name, model), y_pred in zip(lin_model_dict.items(), y_pred_results):\n",
    "    mse = mean_squared_error(y_test, y_pred)\n",
    "    r2 = r2_score(y_test, y_pred)\n",
    "    print(f'RMSE and R2 for the {name.lower():s} model: {np.sqrt(mse):.3f}, {r2:.4f}')"
   ]
  },
  {
   "cell_type": "markdown",
   "metadata": {},
   "source": [
    "### Polynomial model"
   ]
  },
  {
   "cell_type": "code",
   "execution_count": 21,
   "metadata": {},
   "outputs": [],
   "source": [
    "from sklearn.preprocessing import PolynomialFeatures\n",
    "ordinal_list = [name + ' order' for name in ['First', 'Second', 'Third', 'Fourth', 'Fifth']]\n",
    "poly_model_dict = {name : PolynomialFeatures(degree=num, include_bias=False) \\\n",
    "                   for name, num in zip(ordinal_list, range(1, 6))}\n",
    "lin_reg_model = lin_model_dict['Linear regression']"
   ]
  },
  {
   "cell_type": "markdown",
   "metadata": {},
   "source": [
    "#### Accuracy for polynomial models"
   ]
  },
  {
   "cell_type": "code",
   "execution_count": 22,
   "metadata": {},
   "outputs": [
    {
     "name": "stdout",
     "output_type": "stream",
     "text": [
      "Accuracy of the first order on test set: 0.71123\n",
      "Accuracy of the second order on test set: 0.66101\n",
      "Accuracy of the third order on test set: -73.01956\n",
      "Accuracy of the fourth order on test set: -17.67208\n",
      "Accuracy of the fifth order on test set: -9.29721\n",
      "Time elapsed: 0.861 seconds\n"
     ]
    }
   ],
   "source": [
    "from time import time\n",
    "t0 = time()\n",
    "y_pred_poly_results = []\n",
    "for name, model in poly_model_dict.items():\n",
    "    X_train_poly = model.fit_transform(X_train)\n",
    "    X_test_poly = model.fit_transform(X_test)\n",
    "    lin_reg_model.fit(X_train_poly, y_train)\n",
    "    y_pred = lin_reg_model.predict(X_test_poly)\n",
    "    y_pred_poly_results.append(y_pred)\n",
    "#     joblib.dump(model, '_'.join(name.lower().split(' '))+'.pkl')\n",
    "    print(f'Accuracy of the {name.lower()} on test set: {lin_reg_model.score(X_test_poly, y_test):.5f}')\n",
    "print(f'Time elapsed: {(time() - t0):.3f} seconds')"
   ]
  },
  {
   "cell_type": "markdown",
   "metadata": {},
   "source": [
    "#### Root mean squared error for polynomial models"
   ]
  },
  {
   "cell_type": "code",
   "execution_count": 23,
   "metadata": {},
   "outputs": [
    {
     "name": "stdout",
     "output_type": "stream",
     "text": [
      "RMSE and R2 for the first order model: 4.639, 0.7112\n",
      "RMSE and R2 for the second order model: 5.026, 0.6610\n",
      "RMSE and R2 for the third order model: 74.266, -73.0196\n",
      "RMSE and R2 for the fourth order model: 37.300, -17.6721\n",
      "RMSE and R2 for the fifth order model: 27.700, -9.2972\n",
      "Time elapsed: 0.0043 seconds\n"
     ]
    }
   ],
   "source": [
    "t1 = time()\n",
    "for (name, model), y_pred in zip(poly_model_dict.items(), y_pred_poly_results):\n",
    "    mse = mean_squared_error(y_test, y_pred)\n",
    "    r2 = r2_score(y_test, y_pred)\n",
    "    print(f'RMSE and R2 for the {name.lower():s} model: {np.sqrt(mse):.3f}, {r2:.4f}')\n",
    "print(f'Time elapsed: {(time() - t1):.4f} seconds')"
   ]
  },
  {
   "cell_type": "code",
   "execution_count": null,
   "metadata": {},
   "outputs": [],
   "source": []
  }
 ],
 "metadata": {
  "kernelspec": {
   "display_name": "Python 3",
   "language": "python",
   "name": "python3"
  },
  "language_info": {
   "codemirror_mode": {
    "name": "ipython",
    "version": 3
   },
   "file_extension": ".py",
   "mimetype": "text/x-python",
   "name": "python",
   "nbconvert_exporter": "python",
   "pygments_lexer": "ipython3",
   "version": "3.7.4"
  }
 },
 "nbformat": 4,
 "nbformat_minor": 2
}
