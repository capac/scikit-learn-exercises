{
 "cells": [
  {
   "cell_type": "markdown",
   "metadata": {},
   "source": [
    "# Principal component analysis on MNIST data\n",
    "\n",
    "Use PCA to reduce the dataset's dimensionality, with an explained variance ratio of 95\\%. Train a new Random Forest classifier on the reduced dataset and see how long it takes. Next, evaluate the classifier on the test set.\n",
    "\n",
    " - [Split into training and testing data sets](#Split-into-training-and-testing-data-sets)\n",
    " - [Model training](#Model-training)\n",
    " - [PCA](#PCA)\n",
    "    - [Model training with reduced dimensions](#Model-training-with-reduced-dimensions)"
   ]
  },
  {
   "cell_type": "code",
   "execution_count": 1,
   "metadata": {},
   "outputs": [],
   "source": [
    "import numpy as np\n",
    "import pandas as pd\n",
    "import matplotlib.pyplot as plt\n",
    "%matplotlib inline"
   ]
  },
  {
   "cell_type": "code",
   "execution_count": 2,
   "metadata": {},
   "outputs": [
    {
     "data": {
      "text/plain": [
       "dict_keys(['data', 'target', 'feature_names', 'DESCR', 'details', 'categories', 'url'])"
      ]
     },
     "execution_count": 2,
     "metadata": {},
     "output_type": "execute_result"
    }
   ],
   "source": [
    "# load the MNIST data set\n",
    "from sklearn.datasets import fetch_openml\n",
    "mnist = fetch_openml('mnist_784', version=1)\n",
    "mnist.keys()"
   ]
  },
  {
   "cell_type": "markdown",
   "metadata": {},
   "source": [
    "## Split into training and testing data sets"
   ]
  },
  {
   "cell_type": "code",
   "execution_count": 3,
   "metadata": {},
   "outputs": [
    {
     "data": {
      "text/plain": [
       "dict_keys(['data', 'target', 'feature_names', 'DESCR', 'details', 'categories', 'url'])"
      ]
     },
     "execution_count": 3,
     "metadata": {},
     "output_type": "execute_result"
    }
   ],
   "source": [
    "mnist.__dir__()"
   ]
  },
  {
   "cell_type": "code",
   "execution_count": 4,
   "metadata": {},
   "outputs": [
    {
     "data": {
      "text/plain": [
       "{'id': '554',\n",
       " 'name': 'mnist_784',\n",
       " 'version': '1',\n",
       " 'format': 'ARFF',\n",
       " 'upload_date': '2014-09-29T03:28:38',\n",
       " 'licence': 'Public',\n",
       " 'url': 'https://www.openml.org/data/v1/download/52667/mnist_784.arff',\n",
       " 'file_id': '52667',\n",
       " 'default_target_attribute': 'class',\n",
       " 'tag': ['AzurePilot',\n",
       "  'OpenML-CC18',\n",
       "  'OpenML100',\n",
       "  'study_1',\n",
       "  'study_123',\n",
       "  'study_41',\n",
       "  'study_99',\n",
       "  'vision'],\n",
       " 'visibility': 'public',\n",
       " 'status': 'active',\n",
       " 'processing_date': '2018-10-03 21:23:30',\n",
       " 'md5_checksum': '0298d579eb1b86163de7723944c7e495'}"
      ]
     },
     "execution_count": 4,
     "metadata": {},
     "output_type": "execute_result"
    }
   ],
   "source": [
    "mnist.details"
   ]
  },
  {
   "cell_type": "code",
   "execution_count": 5,
   "metadata": {},
   "outputs": [
    {
     "data": {
      "text/plain": [
       "(70000, 784)"
      ]
     },
     "execution_count": 5,
     "metadata": {},
     "output_type": "execute_result"
    }
   ],
   "source": [
    "mnist.data.shape"
   ]
  },
  {
   "cell_type": "code",
   "execution_count": 6,
   "metadata": {},
   "outputs": [],
   "source": [
    "training_ratio = 0.8\n",
    "training_data_set_length = int(len(mnist.data) * training_ratio)\n",
    "testing_data_set_length = len(mnist.data) - training_data_set_length\n",
    "shuffled_index = np.random.permutation(len(mnist.data))"
   ]
  },
  {
   "cell_type": "code",
   "execution_count": 7,
   "metadata": {},
   "outputs": [],
   "source": [
    "X_training_set = mnist.data[shuffled_index[:training_data_set_length]]\n",
    "X_testing_set = mnist.data[shuffled_index[-testing_data_set_length:]]"
   ]
  },
  {
   "cell_type": "code",
   "execution_count": 8,
   "metadata": {},
   "outputs": [
    {
     "name": "stdout",
     "output_type": "stream",
     "text": [
      "(56000, 784)\n",
      "(14000, 784)\n"
     ]
    }
   ],
   "source": [
    "print(X_training_set.shape)\n",
    "print(X_testing_set.shape)"
   ]
  },
  {
   "cell_type": "code",
   "execution_count": 9,
   "metadata": {},
   "outputs": [],
   "source": [
    "y_training_set = mnist.target[shuffled_index[:training_data_set_length]]\n",
    "y_testing_set = mnist.target[shuffled_index[-testing_data_set_length:]]"
   ]
  },
  {
   "cell_type": "code",
   "execution_count": 10,
   "metadata": {},
   "outputs": [
    {
     "name": "stdout",
     "output_type": "stream",
     "text": [
      "(56000,)\n",
      "(14000,)\n"
     ]
    }
   ],
   "source": [
    "print(y_training_set.shape)\n",
    "print(y_testing_set.shape)"
   ]
  },
  {
   "cell_type": "markdown",
   "metadata": {},
   "source": [
    "## Model training"
   ]
  },
  {
   "cell_type": "code",
   "execution_count": 11,
   "metadata": {},
   "outputs": [],
   "source": [
    "from time import time\n",
    "from sklearn.ensemble import RandomForestClassifier\n",
    "from sklearn.metrics import accuracy_score\n",
    "rf_clf = RandomForestClassifier(n_estimators=100)"
   ]
  },
  {
   "cell_type": "code",
   "execution_count": 12,
   "metadata": {},
   "outputs": [
    {
     "name": "stdout",
     "output_type": "stream",
     "text": [
      "Time elapsed: 38.40 sec\n"
     ]
    }
   ],
   "source": [
    "t0 = time()\n",
    "rf_clf.fit(X_training_set, y_training_set)\n",
    "print(f'Time elapsed: {time() - t0:.2f} sec')"
   ]
  },
  {
   "cell_type": "code",
   "execution_count": 13,
   "metadata": {},
   "outputs": [
    {
     "name": "stdout",
     "output_type": "stream",
     "text": [
      "Accuracy score for RandomForestClassifier: 0.9672\n"
     ]
    }
   ],
   "source": [
    "y_prediction_set = rf_clf.predict(X_testing_set)\n",
    "print(f'Accuracy score for {rf_clf.__class__.__name__}: {accuracy_score(y_prediction_set, y_testing_set):.4f}')"
   ]
  },
  {
   "cell_type": "markdown",
   "metadata": {},
   "source": [
    "## PCA"
   ]
  },
  {
   "cell_type": "code",
   "execution_count": 14,
   "metadata": {},
   "outputs": [],
   "source": [
    "from sklearn.decomposition import PCA\n",
    "pca = PCA()"
   ]
  },
  {
   "cell_type": "code",
   "execution_count": 15,
   "metadata": {},
   "outputs": [
    {
     "data": {
      "text/plain": [
       "PCA(copy=True, iterated_power='auto', n_components=None, random_state=None,\n",
       "    svd_solver='auto', tol=0.0, whiten=False)"
      ]
     },
     "execution_count": 15,
     "metadata": {},
     "output_type": "execute_result"
    }
   ],
   "source": [
    "pca.fit(X_training_set)"
   ]
  },
  {
   "cell_type": "code",
   "execution_count": 16,
   "metadata": {},
   "outputs": [],
   "source": [
    "cumsum = np.cumsum(pca.explained_variance_ratio_)\n",
    "d = np.argmax(cumsum >= 0.95) + 1"
   ]
  },
  {
   "cell_type": "code",
   "execution_count": 17,
   "metadata": {},
   "outputs": [
    {
     "name": "stdout",
     "output_type": "stream",
     "text": [
      "Number of reduced dimensions that preserve 95% of the variance: 154\n"
     ]
    }
   ],
   "source": [
    "print(f'Number of reduced dimensions that preserve 95% of the variance: {d}')"
   ]
  },
  {
   "cell_type": "code",
   "execution_count": 18,
   "metadata": {},
   "outputs": [],
   "source": [
    "pca = PCA(n_components=d)\n",
    "X_reduced_training_set = pca.fit_transform(X_training_set)\n",
    "X_reduced_testing_set = pca.transform(X_testing_set)"
   ]
  },
  {
   "cell_type": "code",
   "execution_count": 19,
   "metadata": {},
   "outputs": [
    {
     "name": "stdout",
     "output_type": "stream",
     "text": [
      "(56000, 154)\n",
      "(14000, 154)\n"
     ]
    }
   ],
   "source": [
    "print(X_reduced_training_set.shape)\n",
    "print(X_reduced_testing_set.shape)"
   ]
  },
  {
   "cell_type": "code",
   "execution_count": 20,
   "metadata": {},
   "outputs": [
    {
     "data": {
      "image/png": "[encoded data removed]",
      "text/plain": [
       "<Figure size 720x432 with 1 Axes>"
      ]
     },
     "metadata": {
      "needs_background": "light"
     },
     "output_type": "display_data"
    }
   ],
   "source": [
    "fig, axes = plt.subplots(figsize=(10, 6))\n",
    "axes.plot(cumsum, 'r.')\n",
    "axes.axvline(x=d, color='k', linestyle=':')\n",
    "axes.set_title('Explained variance ratio', fontsize=16)\n",
    "axes.set_xlabel('Dimensions', fontsize=14)\n",
    "axes.set_ylabel('Ratio', fontsize=14)\n",
    "plt.grid(True, linestyle=':');"
   ]
  },
  {
   "cell_type": "markdown",
   "metadata": {},
   "source": [
    "### Model training with reduced dimensions"
   ]
  },
  {
   "cell_type": "code",
   "execution_count": 21,
   "metadata": {},
   "outputs": [
    {
     "name": "stdout",
     "output_type": "stream",
     "text": [
      "Time elapsed: 77.99 sec\n"
     ]
    }
   ],
   "source": [
    "t0 = time()\n",
    "rf_clf.fit(X_reduced_training_set, y_training_set)\n",
    "print(f'Time elapsed: {time() - t0:.2f} sec')"
   ]
  },
  {
   "cell_type": "code",
   "execution_count": 22,
   "metadata": {},
   "outputs": [
    {
     "name": "stdout",
     "output_type": "stream",
     "text": [
      "Accuracy score for RandomForestClassifier: 0.9471\n"
     ]
    }
   ],
   "source": [
    "y_prediction_set = rf_clf.predict(X_reduced_testing_set)\n",
    "print(f'Accuracy score for {rf_clf.__class__.__name__}: {accuracy_score(y_prediction_set, y_testing_set):.4f}')"
   ]
  },
  {
   "cell_type": "code",
   "execution_count": null,
   "metadata": {},
   "outputs": [],
   "source": []
  }
 ],
 "metadata": {
  "kernelspec": {
   "display_name": "Python 3",
   "language": "python",
   "name": "python3"
  },
  "language_info": {
   "codemirror_mode": {
    "name": "ipython",
    "version": 3
   },
   "file_extension": ".py",
   "mimetype": "text/x-python",
   "name": "python",
   "nbconvert_exporter": "python",
   "pygments_lexer": "ipython3",
   "version": "3.7.6"
  }
 },
 "nbformat": 4,
 "nbformat_minor": 4
}
