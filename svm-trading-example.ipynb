{
 "cells": [
  {
   "cell_type": "markdown",
   "metadata": {},
   "source": [
    "# Introduction to Support Vector Machines with a Trading Example\n",
    "\n",
    "This notebook is about how to implement a Support Vector Machines model in a financial markets example, taken from [this blog post on 'Towards Data Science'](https://towardsdatascience.com/intro-to-support-vector-machines-with-a-trading-example-1d4a7997ced6)."
   ]
  },
  {
   "cell_type": "code",
   "execution_count": 1,
   "metadata": {},
   "outputs": [],
   "source": [
    "from bs4 import BeautifulSoup\n",
    "import datetime, json\n",
    "import numpy as np\n",
    "import pandas as pd\n",
    "import requests, time\n",
    "import warnings\n",
    "warnings.simplefilter('ignore')"
   ]
  },
  {
   "cell_type": "code",
   "execution_count": 2,
   "metadata": {},
   "outputs": [],
   "source": [
    "# requires the TA-lib package\n",
    "import talib as ta\n",
    "from talib import MA_Type"
   ]
  },
  {
   "cell_type": "code",
   "execution_count": 3,
   "metadata": {},
   "outputs": [],
   "source": [
    "from sklearn import preprocessing\n",
    "from sklearn.model_selection import train_test_split\n",
    "from sklearn import metrics, svm"
   ]
  },
  {
   "cell_type": "code",
   "execution_count": 4,
   "metadata": {},
   "outputs": [],
   "source": [
    "import matplotlib.pyplot as plt\n",
    "from matplotlib.dates import DateFormatter\n",
    "import matplotlib.ticker as ticker"
   ]
  },
  {
   "cell_type": "code",
   "execution_count": 5,
   "metadata": {},
   "outputs": [],
   "source": [
    "Dow_Page = requests.get('https://finance.yahoo.com/quote/%5EDJI/components?p=%5EDJI')\n",
    "Dow_Content = Dow_Page.content\n",
    "\n",
    "soup = BeautifulSoup(Dow_Content)\n",
    "\n",
    "data = list(soup.findAll(\"td\",{\"class\":\"Py(10px) Ta(start) Pend(10px)\"}))"
   ]
  },
  {
   "cell_type": "code",
   "execution_count": 6,
   "metadata": {},
   "outputs": [],
   "source": [
    "Ticker_List = []\n",
    "for i in data:\n",
    "    TempData = str(i)\n",
    "    if \"title\" in TempData:\n",
    "        TempData = TempData[TempData.find(\"title\"):]\n",
    "        TempData = TempData[TempData.find(\">\")+1:TempData.find(\"<\")]\n",
    "        Ticker_List.append(TempData)\n",
    "    else:\n",
    "        continue"
   ]
  }
 ],
 "metadata": {
  "kernelspec": {
   "display_name": "Python 3",
   "language": "python",
   "name": "python3"
  },
  "language_info": {
   "codemirror_mode": {
    "name": "ipython",
    "version": 3
   },
   "file_extension": ".py",
   "mimetype": "text/x-python",
   "name": "python",
   "nbconvert_exporter": "python",
   "pygments_lexer": "ipython3",
   "version": "3.7.5"
  }
 },
 "nbformat": 4,
 "nbformat_minor": 4
}
