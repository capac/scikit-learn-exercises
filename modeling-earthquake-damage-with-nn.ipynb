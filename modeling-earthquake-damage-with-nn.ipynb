{
 "cells": [
  {
   "cell_type": "markdown",
   "metadata": {},
   "source": [
    "# Richter's Predictor: Modeling Earthquake Damage Using Neural Networks\n",
    "_Hosted By DrivenData_\n",
    "\n",
    "The dataset mainly consists of information on the buildings' structure and their legal ownership. Each row in the dataset represents a specific building in the region that was hit by the Gorkha earthquake.\n",
    "\n",
    "We're trying to predict the ordinal variable `damage_grade`, which represents a level of damage to the building that was hit by the earthquake. There are 3 grades of the damage:\n",
    "\n",
    " 1. represents low damage\n",
    " 2. represents a medium amount of damage\n",
    " 3. represents almost complete destruction\n",
    "\n",
    "The level of damage is an ordinal variable meaning that ordering is important. This can be viewed as a classification or an ordinal regression problem. \n",
    " \n",
    "To measure the performance of our algorithms, we'll use the _F1 score_ which balances the precision and recall of a classifier. Traditionally, the F1 score is used to evaluate performance on a binary classifier, but since we have three possible labels we will use a variant called the _micro averaged F1 score_.\n",
    " \n",
    " - [Loading data](#Loading-data)\n",
    " - [Model training](#Model-training)\n",
    " - [Performance metric for DrivenData competition](#Performance-metric-for-DrivenData-competition)"
   ]
  },
  {
   "cell_type": "code",
   "execution_count": 5,
   "metadata": {},
   "outputs": [],
   "source": [
    "import pandas as pd\n",
    "import numpy as np\n",
    "import matplotlib.pyplot as plt\n",
    "import tensorflow\n",
    "from tensorflow import keras\n",
    "from time import time\n",
    "from pathlib import Path, PurePath\n",
    "%matplotlib inline"
   ]
  },
  {
   "cell_type": "code",
   "execution_count": 3,
   "metadata": {},
   "outputs": [
    {
     "name": "stdout",
     "output_type": "stream",
     "text": [
      "TensorFlow version: 2.1.0\n",
      "Keras version: 2.2.4-tf\n"
     ]
    }
   ],
   "source": [
    "print(f'TensorFlow version: {tensorflow.__version__}')\n",
    "print(f'Keras version: {keras.__version__}')"
   ]
  },
  {
   "cell_type": "code",
   "execution_count": 6,
   "metadata": {},
   "outputs": [],
   "source": [
    "project_root_dir = Path('/Users/angelo/Programming/data/modeling-earthquake-damage')\n",
    "train_values_file = project_root_dir / 'train_values.csv'\n",
    "train_labels_file = project_root_dir / 'train_labels.csv'\n",
    "test_values_file = project_root_dir / 'test_values.csv'"
   ]
  },
  {
   "cell_type": "code",
   "execution_count": 7,
   "metadata": {},
   "outputs": [],
   "source": [
    "train_values_df = pd.read_csv(train_values_file, index_col='building_id')\n",
    "test_values_df = pd.read_csv(test_values_file, index_col='building_id')\n",
    "train_labels_df = pd.read_csv(train_labels_file, index_col='building_id')"
   ]
  },
  {
   "cell_type": "code",
   "execution_count": 8,
   "metadata": {},
   "outputs": [
    {
     "name": "stdout",
     "output_type": "stream",
     "text": [
      "train_values_df.shape: (260601, 38)\n",
      "train_labels_df.shape: (260601, 1)\n",
      "test_values_df.shape: (86868, 38)\n"
     ]
    }
   ],
   "source": [
    "print(f'train_values_df.shape: {train_values_df.shape}')\n",
    "print(f'train_labels_df.shape: {train_labels_df.shape}')\n",
    "print(f'test_values_df.shape: {test_values_df.shape}')"
   ]
  },
  {
   "cell_type": "code",
   "execution_count": null,
   "metadata": {},
   "outputs": [],
   "source": []
  }
 ],
 "metadata": {
  "kernelspec": {
   "display_name": "Python 3",
   "language": "python",
   "name": "python3"
  },
  "language_info": {
   "codemirror_mode": {
    "name": "ipython",
    "version": 3
   },
   "file_extension": ".py",
   "mimetype": "text/x-python",
   "name": "python",
   "nbconvert_exporter": "python",
   "pygments_lexer": "ipython3",
   "version": "3.7.7"
  }
 },
 "nbformat": 4,
 "nbformat_minor": 4
}
