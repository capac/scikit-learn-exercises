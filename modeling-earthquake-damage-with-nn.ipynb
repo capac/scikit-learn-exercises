{
 "cells": [
  {
   "cell_type": "markdown",
   "metadata": {},
   "source": [
    "# Richter's Predictor: Modeling Earthquake Damage Using Neural Networks\n",
    "_Hosted By DrivenData_\n",
    "\n",
    "The dataset mainly consists of information on the buildings' structure and their legal ownership. Each row in the dataset represents a specific building in the region that was hit by the Gorkha earthquake.\n",
    "\n",
    "We're trying to predict the ordinal variable `damage_grade`, which represents a level of damage to the building that was hit by the earthquake. There are 3 grades of the damage:\n",
    "\n",
    " 1. represents low damage\n",
    " 2. represents a medium amount of damage\n",
    " 3. represents almost complete destruction\n",
    "\n",
    "The level of damage is an ordinal variable meaning that ordering is important. This can be viewed as a classification or an ordinal regression problem. \n",
    " \n",
    "To measure the performance of our algorithms, we'll use the _F1 score_ which balances the precision and recall of a classifier. Traditionally, the F1 score is used to evaluate performance on a binary classifier, but since we have three possible labels we will use a variant called the _micro averaged F1 score_.\n",
    " \n",
    " - [Loading data](#Loading-data)\n",
    " - [Model training](#Model-training)\n",
    " - [Performance metric for DrivenData competition](#Performance-metric-for-DrivenData-competition)"
   ]
  },
  {
   "cell_type": "code",
   "execution_count": null,
   "metadata": {},
   "outputs": [],
   "source": []
  }
 ],
 "metadata": {
  "kernelspec": {
   "display_name": "Python 3",
   "language": "python",
   "name": "python3"
  },
  "language_info": {
   "codemirror_mode": {
    "name": "ipython",
    "version": 3
   },
   "file_extension": ".py",
   "mimetype": "text/x-python",
   "name": "python",
   "nbconvert_exporter": "python",
   "pygments_lexer": "ipython3",
   "version": "3.7.7"
  }
 },
 "nbformat": 4,
 "nbformat_minor": 4
}
