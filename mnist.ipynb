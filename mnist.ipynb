{
 "cells": [
  {
   "cell_type": "markdown",
   "metadata": {},
   "source": [
    "# Ensemble learning exercise\n",
    "\n",
    "Train a Random Forest, an Extra Trees and an SVM classifiers on the MNIST data set and use the validation set to see their performance. At that point, create an ensemble of the three classifiers using hard and soft voting and check its performance on the validation set compared to that ottained previously. Has there been an overall improvement compared to each single previous case?\n",
    "\n",
    " - [Spliting the data into training, validation and testing sets](#Spliting-the-data-into-training,-validation-and-testing-sets)\n",
    " - [Model training](#Model-training)\n",
    "   - [Decision tree](#Decision-tree)\n",
    "   - [Random forest](#Random-forest)\n",
    "   - [Support vector machine](#Support-vector-machine)\n",
    "     - [SVC](#SVC)\n",
    "     - [Linear SVC](#Linear-SVC)\n",
    " - [Ensemble model](#Ensemble-model)\n",
    "   - [Hard voting](#Hard-voting)"
   ]
  },
  {
   "cell_type": "code",
   "execution_count": 1,
   "metadata": {},
   "outputs": [],
   "source": [
    "import pandas as pd\n",
    "import numpy as np\n",
    "import matplotlib.pyplot as plt\n",
    "%matplotlib inline"
   ]
  },
  {
   "cell_type": "code",
   "execution_count": 2,
   "metadata": {},
   "outputs": [
    {
     "data": {
      "text/plain": [
       "dict_keys(['data', 'target', 'feature_names', 'DESCR', 'details', 'categories', 'url'])"
      ]
     },
     "execution_count": 2,
     "metadata": {},
     "output_type": "execute_result"
    }
   ],
   "source": [
    "# load the MNIST data set\n",
    "from sklearn.datasets import fetch_openml\n",
    "mnist = fetch_openml('mnist_784', version=1)\n",
    "mnist.keys()"
   ]
  },
  {
   "cell_type": "code",
   "execution_count": 3,
   "metadata": {},
   "outputs": [
    {
     "name": "stdout",
     "output_type": "stream",
     "text": [
      "**Author**: Yann LeCun, Corinna Cortes, Christopher J.C. Burges  \n",
      "**Source**: [MNIST Website](http://yann.lecun.com/exdb/mnist/) - Date unknown  \n",
      "**Please cite**:  \n",
      "\n",
      "The MNIST database of handwritten digits with 784 features, raw data available at: http://yann.lecun.com/exdb/mnist/. It can be split in a training set of the first 60,000 examples, and a test set of 10,000 examples  \n",
      "\n",
      "It is a subset of a larger set available from NIST. The digits have been size-normalized and centered in a fixed-size image. It is a good database for people who want to try learning techniques and pattern recognition methods on real-world data while spending minimal efforts on preprocessing and formatting. The original black and white (bilevel) images from NIST were size normalized to fit in a 20x20 pixel box while preserving their aspect ratio. The resulting images contain grey levels as a result of the anti-aliasing technique used by the normalization algorithm. the images were centered in a 28x28 image by computing the center of mass of the pixels, and translating the image so as to position this point at the center of the 28x28 field.  \n",
      "\n",
      "With some classification methods (particularly template-based methods, such as SVM and K-nearest neighbors), the error rate improves when the digits are centered by bounding box rather than center of mass. If you do this kind of pre-processing, you should report it in your publications. The MNIST database was constructed from NIST's NIST originally designated SD-3 as their training set and SD-1 as their test set. However, SD-3 is much cleaner and easier to recognize than SD-1. The reason for this can be found on the fact that SD-3 was collected among Census Bureau employees, while SD-1 was collected among high-school students. Drawing sensible conclusions from learning experiments requires that the result be independent of the choice of training set and test among the complete set of samples. Therefore it was necessary to build a new database by mixing NIST's datasets.  \n",
      "\n",
      "The MNIST training set is composed of 30,000 patterns from SD-3 and 30,000 patterns from SD-1. Our test set was composed of 5,000 patterns from SD-3 and 5,000 patterns from SD-1. The 60,000 pattern training set contained examples from approximately 250 writers. We made sure that the sets of writers of the training set and test set were disjoint. SD-1 contains 58,527 digit images written by 500 different writers. In contrast to SD-3, where blocks of data from each writer appeared in sequence, the data in SD-1 is scrambled. Writer identities for SD-1 is available and we used this information to unscramble the writers. We then split SD-1 in two: characters written by the first 250 writers went into our new training set. The remaining 250 writers were placed in our test set. Thus we had two sets with nearly 30,000 examples each. The new training set was completed with enough examples from SD-3, starting at pattern # 0, to make a full set of 60,000 training patterns. Similarly, the new test set was completed with SD-3 examples starting at pattern # 35,000 to make a full set with 60,000 test patterns. Only a subset of 10,000 test images (5,000 from SD-1 and 5,000 from SD-3) is available on this site. The full 60,000 sample training set is available.\n",
      "\n",
      "Downloaded from openml.org.\n"
     ]
    }
   ],
   "source": [
    "print(mnist.DESCR)"
   ]
  },
  {
   "cell_type": "markdown",
   "metadata": {},
   "source": [
    "## Spliting the data into training, validation and testing sets"
   ]
  },
  {
   "cell_type": "code",
   "execution_count": 4,
   "metadata": {},
   "outputs": [
    {
     "name": "stdout",
     "output_type": "stream",
     "text": [
      "(70000, 784)\n",
      "<class 'numpy.ndarray'>\n",
      "(70000,)\n",
      "<class 'numpy.ndarray'>\n"
     ]
    }
   ],
   "source": [
    "print(mnist['data'].shape)\n",
    "print(type(mnist['data']))\n",
    "print(mnist['target'].shape)\n",
    "print(type(mnist['target']))"
   ]
  },
  {
   "cell_type": "code",
   "execution_count": 5,
   "metadata": {},
   "outputs": [],
   "source": [
    "training_ratio = 0.6\n",
    "validation_ratio = 0.2\n",
    "testing_ratio = 0.2\n",
    "training_size = int(training_ratio*len(mnist['data']))\n",
    "test_size = int(testing_ratio*len(mnist['data']))\n",
    "validation_size = len(mnist['data']) - training_size - test_size\n",
    "shuffled_index = np.random.permutation(len(mnist['data']))"
   ]
  },
  {
   "cell_type": "code",
   "execution_count": 6,
   "metadata": {},
   "outputs": [],
   "source": [
    "X_training_set = mnist['data'][shuffled_index[:training_size]]\n",
    "X_validation_set = mnist['data'][shuffled_index[training_size:-test_size]]\n",
    "X_testing_set = mnist['data'][shuffled_index[-test_size:]]"
   ]
  },
  {
   "cell_type": "code",
   "execution_count": 7,
   "metadata": {},
   "outputs": [
    {
     "name": "stdout",
     "output_type": "stream",
     "text": [
      "(42000, 784)\n",
      "(14000, 784)\n",
      "(14000, 784)\n"
     ]
    }
   ],
   "source": [
    "print(X_training_set.shape)\n",
    "print(X_validation_set.shape)\n",
    "print(X_testing_set.shape)"
   ]
  },
  {
   "cell_type": "code",
   "execution_count": 8,
   "metadata": {},
   "outputs": [],
   "source": [
    "y_training_set = mnist['target'][shuffled_index[:training_size]]\n",
    "y_validation_set = mnist['target'][shuffled_index[training_size:-test_size]]\n",
    "y_testing_set = mnist['target'][shuffled_index[-test_size:]]"
   ]
  },
  {
   "cell_type": "code",
   "execution_count": 9,
   "metadata": {},
   "outputs": [
    {
     "name": "stdout",
     "output_type": "stream",
     "text": [
      "(42000,)\n",
      "(14000,)\n",
      "(14000,)\n"
     ]
    }
   ],
   "source": [
    "print(y_training_set.shape)\n",
    "print(y_validation_set.shape)\n",
    "print(y_testing_set.shape)"
   ]
  },
  {
   "cell_type": "markdown",
   "metadata": {},
   "source": [
    "## Model training\n",
    "\n",
    "Let's train a decision tree, random forest and support vector machine classifiers on the training set, and check its performance using the validation set."
   ]
  },
  {
   "cell_type": "code",
   "execution_count": 10,
   "metadata": {},
   "outputs": [],
   "source": [
    "from sklearn.tree import DecisionTreeClassifier\n",
    "from sklearn.pipeline import Pipeline\n",
    "from sklearn.preprocessing import StandardScaler\n",
    "from sklearn.svm import LinearSVC, SVC\n",
    "from sklearn.ensemble import RandomForestClassifier\n",
    "from sklearn.metrics import accuracy_score\n",
    "# from sklearn.externals import joblib\n",
    "from time import time"
   ]
  },
  {
   "cell_type": "code",
   "execution_count": 11,
   "metadata": {},
   "outputs": [],
   "source": [
    "tree_clf = DecisionTreeClassifier()\n",
    "rf_clf = RandomForestClassifier(n_estimators=100)"
   ]
  },
  {
   "cell_type": "code",
   "execution_count": 24,
   "metadata": {},
   "outputs": [],
   "source": [
    "svc_clf = Pipeline([('scaler', StandardScaler()), ('svc', SVC(gamma='scale', probability=True, kernel='linear'))])\n",
    "linear_svc_clf = Pipeline([('scaler', StandardScaler()), ('linear_svc', LinearSVC(dual=False, tol=1e-3))])"
   ]
  },
  {
   "cell_type": "markdown",
   "metadata": {},
   "source": [
    "### Decision tree"
   ]
  },
  {
   "cell_type": "code",
   "execution_count": 13,
   "metadata": {},
   "outputs": [
    {
     "name": "stdout",
     "output_type": "stream",
     "text": [
      "Time elapsed: 13.79 sec\n"
     ]
    }
   ],
   "source": [
    "t0 = time()\n",
    "tree_clf.fit(X_training_set, y_training_set)\n",
    "# joblib.dump(tree_clf, 'tree_clf.sav')\n",
    "print(f'Time elapsed: {time()-t0:.2f} sec')"
   ]
  },
  {
   "cell_type": "code",
   "execution_count": 14,
   "metadata": {},
   "outputs": [
    {
     "name": "stdout",
     "output_type": "stream",
     "text": [
      "Accuracy score: 0.862429\n"
     ]
    }
   ],
   "source": [
    "t0 = time()\n",
    "y_prediction_set = tree_clf.predict(X_validation_set)\n",
    "accuracy_score_tree_clf = accuracy_score(y_prediction_set, y_validation_set)\n",
    "print(f'Time elapsed: {time()-t0:.2f} sec')\n",
    "print(f'Accuracy score: {accuracy_score_tree_clf:.6f}')"
   ]
  },
  {
   "cell_type": "markdown",
   "metadata": {},
   "source": [
    "### Random forest"
   ]
  },
  {
   "cell_type": "code",
   "execution_count": 15,
   "metadata": {},
   "outputs": [
    {
     "name": "stdout",
     "output_type": "stream",
     "text": [
      "Time elapsed: 27.66 sec\n"
     ]
    }
   ],
   "source": [
    "t0 = time()\n",
    "rf_clf.fit(X_training_set, y_training_set)\n",
    "# joblib.dump(rf_clf, 'rf_clf.sav')\n",
    "print(f'Time elapsed: {time()-t0:.2f} sec')"
   ]
  },
  {
   "cell_type": "code",
   "execution_count": 16,
   "metadata": {},
   "outputs": [
    {
     "name": "stdout",
     "output_type": "stream",
     "text": [
      "Accuracy score: 0.965929\n"
     ]
    }
   ],
   "source": [
    "t0 = time()\n",
    "y_prediction_set = rf_clf.predict(X_validation_set)\n",
    "accuracy_score_rf_clf = accuracy_score(y_prediction_set, y_validation_set)\n",
    "print(f'Time elapsed: {time()-t0:.2f} sec')\n",
    "print(f'Accuracy score: {accuracy_score_rf_clf:.6f}')"
   ]
  },
  {
   "cell_type": "markdown",
   "metadata": {},
   "source": [
    "### Support vector machine"
   ]
  },
  {
   "cell_type": "markdown",
   "metadata": {},
   "source": [
    "#### SVC"
   ]
  },
  {
   "cell_type": "code",
   "execution_count": 17,
   "metadata": {},
   "outputs": [
    {
     "name": "stdout",
     "output_type": "stream",
     "text": [
      "Time elapsed: 890.76 sec\n"
     ]
    }
   ],
   "source": [
    "t0 = time()\n",
    "svc_clf.fit(X_training_set, y_training_set)\n",
    "# joblib.dump(svc_clf, 'svc_clf.sav')\n",
    "print(f'Time elapsed: {time()-t0:.2f} sec')"
   ]
  },
  {
   "cell_type": "code",
   "execution_count": 18,
   "metadata": {},
   "outputs": [
    {
     "name": "stdout",
     "output_type": "stream",
     "text": [
      "Time elapsed: 80.49 sec\n",
      "Accuracy score: 0.917500\n"
     ]
    }
   ],
   "source": [
    "t0 = time()\n",
    "y_prediction_set = svc_clf.predict(X_validation_set)\n",
    "accuracy_score_svc_clf = accuracy_score(y_prediction_set, y_validation_set)\n",
    "print(f'Time elapsed: {time()-t0:.2f} sec')\n",
    "print(f'Accuracy score: {accuracy_score_svc_clf:.6f}')"
   ]
  },
  {
   "cell_type": "markdown",
   "metadata": {},
   "source": [
    "#### Linear SVC"
   ]
  },
  {
   "cell_type": "code",
   "execution_count": 25,
   "metadata": {},
   "outputs": [
    {
     "name": "stdout",
     "output_type": "stream",
     "text": [
      "Time elapsed: 212.71 sec\n"
     ]
    }
   ],
   "source": [
    "t0 = time()\n",
    "linear_svc_clf.fit(X_training_set, y_training_set)\n",
    "# joblib.dump(linear_svc_clf, 'linear_svc_clf.sav')\n",
    "print(f'Time elapsed: {time()-t0:.2f} sec')"
   ]
  },
  {
   "cell_type": "code",
   "execution_count": 26,
   "metadata": {},
   "outputs": [
    {
     "name": "stdout",
     "output_type": "stream",
     "text": [
      "Time elapsed: 0.19 sec\n",
      "Accuracy score: 0.910929\n"
     ]
    }
   ],
   "source": [
    "t0 = time()\n",
    "y_prediction_set = linear_svc_clf.predict(X_validation_set)\n",
    "accuracy_score_linear_svc_clf = accuracy_score(y_prediction_set, y_validation_set)\n",
    "print(f'Time elapsed: {time()-t0:.2f} sec')\n",
    "print(f'Accuracy score: {accuracy_score_linear_svc_clf:.6f}')"
   ]
  },
  {
   "cell_type": "markdown",
   "metadata": {},
   "source": [
    "## Ensemble model"
   ]
  },
  {
   "cell_type": "markdown",
   "metadata": {},
   "source": [
    "### Hard voting"
   ]
  },
  {
   "cell_type": "code",
   "execution_count": 29,
   "metadata": {},
   "outputs": [],
   "source": [
    "from sklearn.ensemble import VotingClassifier\n",
    "voting_clf = VotingClassifier(estimators=[('tr', tree_clf), ('rf', rf_clf), ('svc', svc_clf), ('linear_svc', linear_svc_clf)], voting='hard', n_jobs=-1)"
   ]
  },
  {
   "cell_type": "code",
   "execution_count": 30,
   "metadata": {},
   "outputs": [
    {
     "data": {
      "text/plain": [
       "VotingClassifier(estimators=[('tr',\n",
       "                              DecisionTreeClassifier(class_weight=None,\n",
       "                                                     criterion='gini',\n",
       "                                                     max_depth=None,\n",
       "                                                     max_features=None,\n",
       "                                                     max_leaf_nodes=None,\n",
       "                                                     min_impurity_decrease=0.0,\n",
       "                                                     min_impurity_split=None,\n",
       "                                                     min_samples_leaf=1,\n",
       "                                                     min_samples_split=2,\n",
       "                                                     min_weight_fraction_leaf=0.0,\n",
       "                                                     presort=False,\n",
       "                                                     random_state=None,\n",
       "                                                     splitter='best')),\n",
       "                             ('rf',\n",
       "                              RandomForestClassifier(bootstr...\n",
       "                                       steps=[('scaler',\n",
       "                                               StandardScaler(copy=True,\n",
       "                                                              with_mean=True,\n",
       "                                                              with_std=True)),\n",
       "                                              ('linear_svc',\n",
       "                                               LinearSVC(C=1.0,\n",
       "                                                         class_weight=None,\n",
       "                                                         dual=False,\n",
       "                                                         fit_intercept=True,\n",
       "                                                         intercept_scaling=1,\n",
       "                                                         loss='squared_hinge',\n",
       "                                                         max_iter=1000,\n",
       "                                                         multi_class='ovr',\n",
       "                                                         penalty='l2',\n",
       "                                                         random_state=None,\n",
       "                                                         tol=0.001,\n",
       "                                                         verbose=0))],\n",
       "                                       verbose=False))],\n",
       "                 flatten_transform=True, n_jobs=-1, voting='hard',\n",
       "                 weights=None)"
      ]
     },
     "execution_count": 30,
     "metadata": {},
     "output_type": "execute_result"
    }
   ],
   "source": [
    "t0 = time()\n",
    "voting_clf.fit(X_training_set, y_training_set)\n",
    "print(f'Time elapsed: {time()-t0:.2f} sec')"
   ]
  },
  {
   "cell_type": "code",
   "execution_count": null,
   "metadata": {},
   "outputs": [],
   "source": [
    "# joblib.dump(voting_clf, 'voting_clf.sav')"
   ]
  },
  {
   "cell_type": "code",
   "execution_count": null,
   "metadata": {},
   "outputs": [],
   "source": [
    "t0 = time()\n",
    "y_prediction_set = voting_clf.predict(X_validation_set)\n",
    "accuracy_score_voting_clf = accuracy_score(y_prediction_set, y_validation_set)\n",
    "print(f'Time elapsed: {time()-t0:.2f} sec')"
   ]
  },
  {
   "cell_type": "code",
   "execution_count": 31,
   "metadata": {},
   "outputs": [
    {
     "name": "stdout",
     "output_type": "stream",
     "text": [
      "Accuracy score for DecisionTreeClassifier: 0.860786\n",
      "Accuracy score for RandomForestClassifier: 0.965214\n",
      "Accuracy score for Pipeline: 0.917500\n",
      "Accuracy score for Pipeline: 0.910929\n",
      "Accuracy score for VotingClassifier: 0.948857\n"
     ]
    }
   ],
   "source": [
    "clfs = (tree_clf, rf_clf, svc_clf, linear_svc_clf, voting_clf)\n",
    "scores = (accuracy_score_tree_clf, accuracy_score_rf_clf, accuracy_score_svc_clf, \\\n",
    "          accuracy_score_linear_svc_clf, accuracy_score_voting_clf)\n",
    "for score in zip(clfs, scores):\n",
    "    print(f'Accuracy score for {clf.__class__.__name__}: {scores:.6f}')"
   ]
  },
  {
   "cell_type": "code",
   "execution_count": null,
   "metadata": {},
   "outputs": [],
   "source": []
  }
 ],
 "metadata": {
  "kernelspec": {
   "display_name": "Python 3",
   "language": "python",
   "name": "python3"
  },
  "language_info": {
   "codemirror_mode": {
    "name": "ipython",
    "version": 3
   },
   "file_extension": ".py",
   "mimetype": "text/x-python",
   "name": "python",
   "nbconvert_exporter": "python",
   "pygments_lexer": "ipython3",
   "version": "3.7.5"
  }
 },
 "nbformat": 4,
 "nbformat_minor": 4
}
