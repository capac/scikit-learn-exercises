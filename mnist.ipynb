{
 "cells": [
  {
   "cell_type": "markdown",
   "metadata": {},
   "source": [
    "# Ensemble learning exercise\n",
    "\n",
    "Train a Random Forest, an Extra Trees and an SVM classifiers on the MNIST data set and use the validation set to see their performance. At that point, create an ensemble of the three classifiers using hard and soft voting and check its performance on the validation set compared to that ottained previously. Has there been an overall improvement compared to each single previous case?\n",
    "\n",
    " - [Spliting the data into training, validation and testing sets](#Spliting-the-data-into-training,-validation-and-testing-sets)\n",
    " - [Model training](#Model-training)\n",
    "   - [Decision tree](#Decision-tree)\n",
    "   - [Support vector machine](#Support-vector-machine)\n",
    "   - [Random forest](#Random-forest)\n",
    "   - [Logistic regression](#Logistic-regression)\n",
    " - [Ensemble model](#Ensemble-model)"
   ]
  },
  {
   "cell_type": "code",
   "execution_count": null,
   "metadata": {},
   "outputs": [],
   "source": [
    "import pandas as pd\n",
    "import numpy as np\n",
    "import matplotlib.pyplot as plt\n",
    "%matplotlib inline"
   ]
  },
  {
   "cell_type": "code",
   "execution_count": null,
   "metadata": {},
   "outputs": [],
   "source": [
    "# load the MNIST data set\n",
    "from sklearn.datasets import fetch_openml\n",
    "mnist = fetch_openml('mnist_784', version=1)\n",
    "mnist.keys()"
   ]
  },
  {
   "cell_type": "code",
   "execution_count": null,
   "metadata": {},
   "outputs": [],
   "source": [
    "print(mnist.DESCR)"
   ]
  },
  {
   "cell_type": "markdown",
   "metadata": {},
   "source": [
    "## Spliting the data into training, validation and testing sets"
   ]
  },
  {
   "cell_type": "code",
   "execution_count": null,
   "metadata": {},
   "outputs": [],
   "source": [
    "print(mnist['data'].shape)\n",
    "print(type(mnist['data']))\n",
    "print(mnist['target'].shape)\n",
    "print(type(mnist['target']))"
   ]
  },
  {
   "cell_type": "code",
   "execution_count": null,
   "metadata": {},
   "outputs": [],
   "source": [
    "training_ratio = 0.6\n",
    "validation_ratio = 0.2\n",
    "testing_ratio = 0.2\n",
    "training_size = int(training_ratio*len(mnist['data']))\n",
    "test_size = int(testing_ratio*len(mnist['data']))\n",
    "validation_size = len(mnist['data']) - training_size - test_size\n",
    "shuffled_index = np.random.permutation(len(mnist['data']))"
   ]
  },
  {
   "cell_type": "code",
   "execution_count": null,
   "metadata": {},
   "outputs": [],
   "source": [
    "X_training_set = mnist['data'][shuffled_index[:training_size]]\n",
    "X_validation_set = mnist['data'][shuffled_index[training_size:-test_size]]\n",
    "X_testing_set = mnist['data'][shuffled_index[-test_size:]]"
   ]
  },
  {
   "cell_type": "code",
   "execution_count": null,
   "metadata": {},
   "outputs": [],
   "source": [
    "print(X_training_set.shape)\n",
    "print(X_validation_set.shape)\n",
    "print(X_testing_set.shape)"
   ]
  },
  {
   "cell_type": "code",
   "execution_count": null,
   "metadata": {},
   "outputs": [],
   "source": [
    "y_training_set = mnist['target'][shuffled_index[:training_size]]\n",
    "y_validation_set = mnist['target'][shuffled_index[training_size:-test_size]]\n",
    "y_testing_set = mnist['target'][shuffled_index[-test_size:]]"
   ]
  },
  {
   "cell_type": "code",
   "execution_count": null,
   "metadata": {},
   "outputs": [],
   "source": [
    "print(y_training_set.shape)\n",
    "print(y_validation_set.shape)\n",
    "print(y_testing_set.shape)"
   ]
  },
  {
   "cell_type": "markdown",
   "metadata": {},
   "source": [
    "## Model training\n",
    "\n",
    "Let's train a decision tree, random forest and support vector machine classifiers on the training set, and check its performance using the validation set."
   ]
  },
  {
   "cell_type": "code",
   "execution_count": null,
   "metadata": {},
   "outputs": [],
   "source": [
    "from sklearn.tree import DecisionTreeClassifier\n",
    "from sklearn.svm import SVC\n",
    "from sklearn.ensemble import RandomForestClassifier\n",
    "from sklearn.linear_model import LogisticRegression\n",
    "from sklearn.metrics import accuracy_score\n",
    "from time import time"
   ]
  },
  {
   "cell_type": "code",
   "execution_count": null,
   "metadata": {},
   "outputs": [],
   "source": [
    "tree_clf = DecisionTreeClassifier()\n",
    "svm_clf = SVC(gamma='scale')\n",
    "rf_clf = RandomForestClassifier(n_estimators=100)\n",
    "lg_clf = LogisticRegression(solver='liblinear', multi_class='ovr', max_iter=-1)"
   ]
  },
  {
   "cell_type": "markdown",
   "metadata": {},
   "source": [
    "### Decision tree"
   ]
  },
  {
   "cell_type": "code",
   "execution_count": null,
   "metadata": {},
   "outputs": [],
   "source": [
    "t0 = time()\n",
    "tree_clf.fit(X_training_set, y_training_set)\n",
    "print(f'Time elapsed: {time()-t0:.2f} sec')"
   ]
  },
  {
   "cell_type": "code",
   "execution_count": null,
   "metadata": {},
   "outputs": [],
   "source": [
    "y_prediction_set = tree_clf.predict(X_validation_set)\n",
    "print(f'Accuracy score: {accuracy_score(y_prediction_set, y_validation_set):.6f}')"
   ]
  },
  {
   "cell_type": "markdown",
   "metadata": {},
   "source": [
    "### Support vector machine"
   ]
  },
  {
   "cell_type": "code",
   "execution_count": null,
   "metadata": {},
   "outputs": [],
   "source": [
    "t0 = time()\n",
    "svm_clf.fit(X_training_set, y_training_set)\n",
    "print(f'Time elapsed: {time()-t0:.2f} sec')"
   ]
  },
  {
   "cell_type": "code",
   "execution_count": null,
   "metadata": {},
   "outputs": [],
   "source": [
    "y_prediction_set = svm_clf.predict(X_validation_set)\n",
    "print(f'Accuracy score: {accuracy_score(y_prediction_set, y_validation_set):.6f}')"
   ]
  },
  {
   "cell_type": "markdown",
   "metadata": {},
   "source": [
    "### Random forest"
   ]
  },
  {
   "cell_type": "code",
   "execution_count": null,
   "metadata": {},
   "outputs": [],
   "source": [
    "t0 = time()\n",
    "rf_clf.fit(X_training_set, y_training_set)\n",
    "print(f'Time elapsed: {time()-t0:.2f} sec')"
   ]
  },
  {
   "cell_type": "code",
   "execution_count": null,
   "metadata": {},
   "outputs": [],
   "source": [
    "y_prediction_set = rf_clf.predict(X_validation_set)\n",
    "print(f'Accuracy score: {accuracy_score(y_prediction_set, y_validation_set):.6f}')"
   ]
  },
  {
   "cell_type": "markdown",
   "metadata": {},
   "source": [
    "### Logistic regression"
   ]
  },
  {
   "cell_type": "code",
   "execution_count": null,
   "metadata": {},
   "outputs": [],
   "source": [
    "t0 = time()\n",
    "lg_clf.fit(X_training_set, y_training_set)\n",
    "print(f'Time elapsed: {time()-t0:.2f} sec')"
   ]
  },
  {
   "cell_type": "code",
   "execution_count": null,
   "metadata": {},
   "outputs": [],
   "source": [
    "y_prediction_set = lg_clf.predict(X_validation_set)\n",
    "print(f'Accuracy score: {accuracy_score(y_prediction_set, y_validation_set):.6f}')"
   ]
  },
  {
   "cell_type": "markdown",
   "metadata": {},
   "source": [
    "## Ensemble model"
   ]
  },
  {
   "cell_type": "code",
   "execution_count": null,
   "metadata": {},
   "outputs": [],
   "source": [
    "from sklearn.ensemble import VotingClassifier\n",
    "voting_clf = VotingClassifier(estimators=[('tr', tree_clf), ('svc', svm_clf), ('rf', rf_clf), ('lg', lg_clf)], voting='hard', n_jobs=-1)"
   ]
  },
  {
   "cell_type": "code",
   "execution_count": null,
   "metadata": {},
   "outputs": [],
   "source": [
    "voting_clf.fit(X_training_set, y_training_set)"
   ]
  },
  {
   "cell_type": "code",
   "execution_count": null,
   "metadata": {},
   "outputs": [],
   "source": [
    "for clf in (tree_clf, svm_clf, rf_clf, lg_clf, voting_clf):\n",
    "    clf.fit(X_training_set, y_training_set)\n",
    "    y_pred = clf.predict(X_validation_set)\n",
    "    print(f'Accuracy score for {clf.__class__.__name__}: {accuracy_score(y_validation_set, y_pred):.6f}')"
   ]
  },
  {
   "cell_type": "code",
   "execution_count": null,
   "metadata": {},
   "outputs": [],
   "source": []
  }
 ],
 "metadata": {
  "kernelspec": {
   "display_name": "Python 3",
   "language": "python",
   "name": "python3"
  },
  "language_info": {
   "codemirror_mode": {
    "name": "ipython",
    "version": 3
   },
   "file_extension": ".py",
   "mimetype": "text/x-python",
   "name": "python",
   "nbconvert_exporter": "python",
   "pygments_lexer": "ipython3",
   "version": "3.7.5"
  }
 },
 "nbformat": 4,
 "nbformat_minor": 4
}
